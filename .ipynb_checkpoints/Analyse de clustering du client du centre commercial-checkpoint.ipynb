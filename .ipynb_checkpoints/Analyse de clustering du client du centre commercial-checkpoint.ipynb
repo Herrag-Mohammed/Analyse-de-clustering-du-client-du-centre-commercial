{
 "cells": [
  {
   "cell_type": "markdown",
   "metadata": {},
   "source": [
    "Le clustering est la tâche de diviser la population d'un certain nombre de groupes.\n",
    "\n",
    "Il s'agit essentiellement d'un type de méthode d'apprentissage non supervisé . Une méthode d'apprentissage non supervisé est une méthode dans laquelle nous tirons des références d'ensembles de données constitués de données d'entrée sans réponses étiquetées."
   ]
  },
  {
   "cell_type": "code",
   "execution_count": 3,
   "metadata": {},
   "outputs": [],
   "source": [
    "#importation des bib\n",
    "\n",
    "import numpy as np\n",
    "import pandas as pd\n",
    "import matplotlib.pyplot as plt\n",
    "import seaborn as sns"
   ]
  },
  {
   "cell_type": "code",
   "execution_count": 4,
   "metadata": {},
   "outputs": [
    {
     "data": {
      "text/html": [
       "<div>\n",
       "<style scoped>\n",
       "    .dataframe tbody tr th:only-of-type {\n",
       "        vertical-align: middle;\n",
       "    }\n",
       "\n",
       "    .dataframe tbody tr th {\n",
       "        vertical-align: top;\n",
       "    }\n",
       "\n",
       "    .dataframe thead th {\n",
       "        text-align: right;\n",
       "    }\n",
       "</style>\n",
       "<table border=\"1\" class=\"dataframe\">\n",
       "  <thead>\n",
       "    <tr style=\"text-align: right;\">\n",
       "      <th></th>\n",
       "      <th>Genre</th>\n",
       "      <th>Age</th>\n",
       "      <th>Annual Income (k$)</th>\n",
       "      <th>Spending Score (1-100)</th>\n",
       "    </tr>\n",
       "    <tr>\n",
       "      <th>CustomerID</th>\n",
       "      <th></th>\n",
       "      <th></th>\n",
       "      <th></th>\n",
       "      <th></th>\n",
       "    </tr>\n",
       "  </thead>\n",
       "  <tbody>\n",
       "    <tr>\n",
       "      <th>1</th>\n",
       "      <td>Male</td>\n",
       "      <td>19</td>\n",
       "      <td>15</td>\n",
       "      <td>39</td>\n",
       "    </tr>\n",
       "    <tr>\n",
       "      <th>2</th>\n",
       "      <td>Male</td>\n",
       "      <td>21</td>\n",
       "      <td>15</td>\n",
       "      <td>81</td>\n",
       "    </tr>\n",
       "    <tr>\n",
       "      <th>3</th>\n",
       "      <td>Female</td>\n",
       "      <td>20</td>\n",
       "      <td>16</td>\n",
       "      <td>6</td>\n",
       "    </tr>\n",
       "    <tr>\n",
       "      <th>4</th>\n",
       "      <td>Female</td>\n",
       "      <td>23</td>\n",
       "      <td>16</td>\n",
       "      <td>77</td>\n",
       "    </tr>\n",
       "    <tr>\n",
       "      <th>5</th>\n",
       "      <td>Female</td>\n",
       "      <td>31</td>\n",
       "      <td>17</td>\n",
       "      <td>40</td>\n",
       "    </tr>\n",
       "  </tbody>\n",
       "</table>\n",
       "</div>"
      ],
      "text/plain": [
       "             Genre  Age  Annual Income (k$)  Spending Score (1-100)\n",
       "CustomerID                                                         \n",
       "1             Male   19                  15                      39\n",
       "2             Male   21                  15                      81\n",
       "3           Female   20                  16                       6\n",
       "4           Female   23                  16                      77\n",
       "5           Female   31                  17                      40"
      ]
     },
     "execution_count": 4,
     "metadata": {},
     "output_type": "execute_result"
    }
   ],
   "source": [
    "#Cet ensemble de données est basé sur les clients des centres commerciaux.\n",
    "data=pd.read_csv(\"/Users/mohammedherrag/Downloads/Mall_Customers.csv\" , index_col=[0])\n",
    "data.head()\n"
   ]
  },
  {
   "cell_type": "code",
   "execution_count": 5,
   "metadata": {},
   "outputs": [
    {
     "data": {
      "text/plain": [
       "(200, 4)"
      ]
     },
     "execution_count": 5,
     "metadata": {},
     "output_type": "execute_result"
    }
   ],
   "source": [
    "data.shape"
   ]
  },
  {
   "cell_type": "markdown",
   "metadata": {},
   "source": [
    "Il y a un total de 200 lignes et 5 colonnes dans cet ensemble de données."
   ]
  },
  {
   "cell_type": "code",
   "execution_count": 6,
   "metadata": {},
   "outputs": [
    {
     "name": "stdout",
     "output_type": "stream",
     "text": [
      "<class 'pandas.core.frame.DataFrame'>\n",
      "Int64Index: 200 entries, 1 to 200\n",
      "Data columns (total 4 columns):\n",
      " #   Column                  Non-Null Count  Dtype \n",
      "---  ------                  --------------  ----- \n",
      " 0   Genre                   200 non-null    object\n",
      " 1   Age                     200 non-null    int64 \n",
      " 2   Annual Income (k$)      200 non-null    int64 \n",
      " 3   Spending Score (1-100)  200 non-null    int64 \n",
      "dtypes: int64(3), object(1)\n",
      "memory usage: 7.8+ KB\n"
     ]
    }
   ],
   "source": [
    "data.info()"
   ]
  },
  {
   "cell_type": "code",
   "execution_count": 7,
   "metadata": {},
   "outputs": [
    {
     "data": {
      "text/html": [
       "<div>\n",
       "<style scoped>\n",
       "    .dataframe tbody tr th:only-of-type {\n",
       "        vertical-align: middle;\n",
       "    }\n",
       "\n",
       "    .dataframe tbody tr th {\n",
       "        vertical-align: top;\n",
       "    }\n",
       "\n",
       "    .dataframe thead th {\n",
       "        text-align: right;\n",
       "    }\n",
       "</style>\n",
       "<table border=\"1\" class=\"dataframe\">\n",
       "  <thead>\n",
       "    <tr style=\"text-align: right;\">\n",
       "      <th></th>\n",
       "      <th>Age</th>\n",
       "      <th>Annual Income (k$)</th>\n",
       "      <th>Spending Score (1-100)</th>\n",
       "    </tr>\n",
       "  </thead>\n",
       "  <tbody>\n",
       "    <tr>\n",
       "      <th>count</th>\n",
       "      <td>200.000000</td>\n",
       "      <td>200.000000</td>\n",
       "      <td>200.000000</td>\n",
       "    </tr>\n",
       "    <tr>\n",
       "      <th>mean</th>\n",
       "      <td>38.850000</td>\n",
       "      <td>60.560000</td>\n",
       "      <td>50.200000</td>\n",
       "    </tr>\n",
       "    <tr>\n",
       "      <th>std</th>\n",
       "      <td>13.969007</td>\n",
       "      <td>26.264721</td>\n",
       "      <td>25.823522</td>\n",
       "    </tr>\n",
       "    <tr>\n",
       "      <th>min</th>\n",
       "      <td>18.000000</td>\n",
       "      <td>15.000000</td>\n",
       "      <td>1.000000</td>\n",
       "    </tr>\n",
       "    <tr>\n",
       "      <th>25%</th>\n",
       "      <td>28.750000</td>\n",
       "      <td>41.500000</td>\n",
       "      <td>34.750000</td>\n",
       "    </tr>\n",
       "    <tr>\n",
       "      <th>50%</th>\n",
       "      <td>36.000000</td>\n",
       "      <td>61.500000</td>\n",
       "      <td>50.000000</td>\n",
       "    </tr>\n",
       "    <tr>\n",
       "      <th>75%</th>\n",
       "      <td>49.000000</td>\n",
       "      <td>78.000000</td>\n",
       "      <td>73.000000</td>\n",
       "    </tr>\n",
       "    <tr>\n",
       "      <th>max</th>\n",
       "      <td>70.000000</td>\n",
       "      <td>137.000000</td>\n",
       "      <td>99.000000</td>\n",
       "    </tr>\n",
       "  </tbody>\n",
       "</table>\n",
       "</div>"
      ],
      "text/plain": [
       "              Age  Annual Income (k$)  Spending Score (1-100)\n",
       "count  200.000000          200.000000              200.000000\n",
       "mean    38.850000           60.560000               50.200000\n",
       "std     13.969007           26.264721               25.823522\n",
       "min     18.000000           15.000000                1.000000\n",
       "25%     28.750000           41.500000               34.750000\n",
       "50%     36.000000           61.500000               50.000000\n",
       "75%     49.000000           78.000000               73.000000\n",
       "max     70.000000          137.000000               99.000000"
      ]
     },
     "execution_count": 7,
     "metadata": {},
     "output_type": "execute_result"
    }
   ],
   "source": [
    "data.describe()"
   ]
  },
  {
   "cell_type": "code",
   "execution_count": 8,
   "metadata": {
    "scrolled": true
   },
   "outputs": [
    {
     "data": {
      "text/plain": [
       "Genre                     0\n",
       "Age                       0\n",
       "Annual Income (k$)        0\n",
       "Spending Score (1-100)    0\n",
       "dtype: int64"
      ]
     },
     "execution_count": 8,
     "metadata": {},
     "output_type": "execute_result"
    }
   ],
   "source": [
    "data.isnull().sum()"
   ]
  },
  {
   "cell_type": "markdown",
   "metadata": {},
   "source": [
    "on remarque n'existe pas des valeurs nulles dans l'ensemble de données."
   ]
  },
  {
   "cell_type": "markdown",
   "metadata": {},
   "source": [
    "### <font color='blue'>Corrélations en les différents attributs</font>"
   ]
  },
  {
   "cell_type": "code",
   "execution_count": 9,
   "metadata": {},
   "outputs": [
    {
     "data": {
      "image/png": "[encoded data removed]",
      "text/plain": [
       "<Figure size 720x576 with 2 Axes>"
      ]
     },
     "metadata": {
      "needs_background": "light"
     },
     "output_type": "display_data"
    }
   ],
   "source": [
    "plt.figure(figsize=(10,8))\n",
    "sns.heatmap(data[1:].corr(), cmap = 'vlag', annot = True)\n",
    "plt.title('Heatmap pour les données', fontsize = 20)\n",
    "plt.show()"
   ]
  },
  {
   "cell_type": "markdown",
   "metadata": {},
   "source": [
    "Le graphique ci-dessus pour montrer la corrélation entre les différents attributs, tel que les caractéristiques les plus corrélées avec la couleur rouge et les caractéristiques les moins corrélées avec la couleur bleue.\n",
    "\n",
    "Nous pouvons clairement voir que ces attributs n'ont pas une bonne corrélation entre eux."
   ]
  },
  {
   "cell_type": "markdown",
   "metadata": {},
   "source": [
    "### <font color='blue'>Ratio hommes/femmes et spending score/Genre</font>"
   ]
  },
  {
   "cell_type": "code",
   "execution_count": 11,
   "metadata": {},
   "outputs": [
    {
     "ename": "NameError",
     "evalue": "name 'labels' is not defined",
     "output_type": "error",
     "traceback": [
      "\u001b[0;31m---------------------------------------------------------------------------\u001b[0m",
      "\u001b[0;31mNameError\u001b[0m                                 Traceback (most recent call last)",
      "\u001b[0;32m<ipython-input-11-ad2e3dbeb1ce>\u001b[0m in \u001b[0;36m<module>\u001b[0;34m\u001b[0m\n\u001b[1;32m      1\u001b[0m \u001b[0mplt\u001b[0m\u001b[0;34m.\u001b[0m\u001b[0mfigure\u001b[0m\u001b[0;34m(\u001b[0m\u001b[0mfigsize\u001b[0m\u001b[0;34m=\u001b[0m\u001b[0;34m(\u001b[0m\u001b[0;36m15\u001b[0m\u001b[0;34m,\u001b[0m\u001b[0;36m8\u001b[0m\u001b[0;34m)\u001b[0m\u001b[0;34m)\u001b[0m\u001b[0;34m\u001b[0m\u001b[0;34m\u001b[0m\u001b[0m\n\u001b[1;32m      2\u001b[0m \u001b[0mplt\u001b[0m\u001b[0;34m.\u001b[0m\u001b[0msubplot\u001b[0m\u001b[0;34m(\u001b[0m\u001b[0;36m1\u001b[0m\u001b[0;34m,\u001b[0m\u001b[0;36m2\u001b[0m\u001b[0;34m,\u001b[0m\u001b[0;36m1\u001b[0m\u001b[0;34m)\u001b[0m\u001b[0;34m\u001b[0m\u001b[0;34m\u001b[0m\u001b[0m\n\u001b[0;32m----> 3\u001b[0;31m \u001b[0mplt\u001b[0m\u001b[0;34m.\u001b[0m\u001b[0mpie\u001b[0m\u001b[0;34m(\u001b[0m\u001b[0mdata\u001b[0m\u001b[0;34m[\u001b[0m\u001b[0;34m'Genre'\u001b[0m\u001b[0;34m]\u001b[0m\u001b[0;34m.\u001b[0m\u001b[0mvalue_counts\u001b[0m\u001b[0;34m(\u001b[0m\u001b[0;34m)\u001b[0m\u001b[0;34m,\u001b[0m\u001b[0mcolors\u001b[0m\u001b[0;34m=\u001b[0m\u001b[0;34m[\u001b[0m\u001b[0;34m'#F95CCF'\u001b[0m\u001b[0;34m,\u001b[0m\u001b[0;34m'#3A54FA'\u001b[0m\u001b[0;34m]\u001b[0m\u001b[0;34m,\u001b[0m\u001b[0mexplode\u001b[0m \u001b[0;34m=\u001b[0m \u001b[0;34m[\u001b[0m\u001b[0;36m0.1\u001b[0m\u001b[0;34m,\u001b[0m\u001b[0;36m0\u001b[0m\u001b[0;34m]\u001b[0m\u001b[0;34m,\u001b[0m \u001b[0mlabels\u001b[0m \u001b[0;34m=\u001b[0m \u001b[0mlabels\u001b[0m\u001b[0;34m,\u001b[0m \u001b[0mautopct\u001b[0m \u001b[0;34m=\u001b[0m \u001b[0;34m'%.2f%%'\u001b[0m\u001b[0;34m)\u001b[0m\u001b[0;34m\u001b[0m\u001b[0;34m\u001b[0m\u001b[0m\n\u001b[0m\u001b[1;32m      4\u001b[0m \u001b[0mplt\u001b[0m\u001b[0;34m.\u001b[0m\u001b[0mtitle\u001b[0m\u001b[0;34m(\u001b[0m\u001b[0;34m'Genre'\u001b[0m\u001b[0;34m,\u001b[0m \u001b[0mfontsize\u001b[0m \u001b[0;34m=\u001b[0m \u001b[0;36m20\u001b[0m\u001b[0;34m)\u001b[0m\u001b[0;34m\u001b[0m\u001b[0;34m\u001b[0m\u001b[0m\n\u001b[1;32m      5\u001b[0m \u001b[0mplt\u001b[0m\u001b[0;34m.\u001b[0m\u001b[0mlegend\u001b[0m\u001b[0;34m(\u001b[0m\u001b[0;34m)\u001b[0m\u001b[0;34m\u001b[0m\u001b[0;34m\u001b[0m\u001b[0m\n",
      "\u001b[0;31mNameError\u001b[0m: name 'labels' is not defined"
     ]
    },
    {
     "data": {
      "image/png": "[encoded data removed]",
      "text/plain": [
       "<Figure size 1080x576 with 1 Axes>"
      ]
     },
     "metadata": {
      "needs_background": "light"
     },
     "output_type": "display_data"
    }
   ],
   "source": [
    "plt.figure(figsize=(15,8))\n",
    "plt.subplot(1,2,1)\n",
    "plt.pie(data['Genre'].value_counts(),colors=['#F95CCF','#3A54FA'],explode = [0.1,0], labels = labels, autopct = '%.2f%%')\n",
    "plt.title('Genre', fontsize = 20)\n",
    "plt.legend()\n",
    "plt.subplot(1,2,2)\n",
    "\n",
    "male_avg_score = data[data.Genre == 'Male']['Spending Score (1-100)'].mean()\n",
    "female_avg_score = data[data.Genre == 'Female']['Spending Score (1-100)'].mean()\n",
    "plt.bar(x = ['Male' , 'Female'] , height = [male_avg_score , female_avg_score] , color = ['#3A54FA','#F95CCF'])\n",
    "plt.title('spending score/Genre' )\n",
    "plt.ylabel('Average spending score' )\n",
    "plt.xlabel('Genre' )\n",
    "plt.text(-.25 , 40 , 'Average = {:.2f}'.format(male_avg_score))\n",
    "plt.text(.75 , 40 , 'Average = {:.2f}'.format(female_avg_score))\n",
    "plt.show()"
   ]
  },
  {
   "cell_type": "markdown",
   "metadata": {},
   "source": [
    "<ul>\n",
    "<li>La première subplot montre que nos clientes féminines (56%) sont plus que nos clients masculins (44%).</li>\n",
    "<li>La deuxième subplot secondaire montre également que nos clientes féminines (51.53) ont en moyenne un spending score plus élevé par rapport a nos clients masculins (48.51).</li>\n",
    "</ul>    "
   ]
  },
  {
   "cell_type": "code",
   "execution_count": null,
   "metadata": {},
   "outputs": [],
   "source": []
  },
  {
   "cell_type": "code",
   "execution_count": null,
   "metadata": {},
   "outputs": [],
   "source": [
    "plt.figure(figsize=(15,8))\n",
    "sns.boxenplot(data['Genre'], data['Spending Score (1-100)'], \n",
    "               palette = ['#3A54FA','#F95CCF'])\n",
    "plt.title('violinplot Gender vs Sending Score', fontsize = 30)\n",
    "plt.xlabel('Genre',fontsize = 20)\n",
    "plt.ylabel('Spending Score (1-100)',fontsize = 20)\n",
    "plt.show()"
   ]
  },
  {
   "cell_type": "markdown",
   "metadata": {},
   "source": [
    "Il est clairement visible que la plupart des hommes ont un Spending Score d'environ 25 à 70 , tandis que les femmes ont un Spending Score d'environ 35 à 75. ce qui indique que le degré de dépense pour les fammes est plus grand que les hommes."
   ]
  },
  {
   "cell_type": "markdown",
   "metadata": {},
   "source": [
    "### <font color=\"blue\"> violins-plots </font>"
   ]
  },
  {
   "cell_type": "code",
   "execution_count": null,
   "metadata": {
    "scrolled": false
   },
   "outputs": [],
   "source": [
    "plt.figure(figsize=(15,8))\n",
    "sns.violinplot('Genre', 'Annual Income (k$)', data=data ,\n",
    "               palette = ['#3A54FA','#F95CCF'])\n",
    "plt.title('violinplot Gender vs Sending Score', fontsize = 30)\n",
    "plt.xlabel('Genre',fontsize = 20)\n",
    "plt.ylabel('Annual Income (k$)',fontsize = 20)\n",
    "plt.show()"
   ]
  },
  {
   "cell_type": "markdown",
   "metadata": {},
   "source": [
    "On voit que la forme générale et la distribution des pointes sont similaires pour les deux sexes, mais il y a plus de valeurs aberrantes dans le cas des hommes.\n",
    "\n",
    "nous pouvons voir qu'il y a plus d'hommes qui sont payés plus que de femmes. Mais, le nombre d'hommes et de femmes est égal en nombre lorsqu'il s'agit de faible revenu annuel."
   ]
  },
  {
   "cell_type": "markdown",
   "metadata": {},
   "source": [
    "### <font color='blue'>Répartition par âge </font>"
   ]
  },
  {
   "cell_type": "code",
   "execution_count": null,
   "metadata": {
    "scrolled": false
   },
   "outputs": [],
   "source": [
    "plt.figure(figsize=(25,10))\n",
    "plt.title(\"Répartition de l'âge\", fontsize = 30)\n",
    "sns.countplot(data['Age'], palette = 'hsv')\n",
    "plt.xlabel('Age',fontsize = 15)\n",
    "plt.ylabel('count',fontsize = 15)\n",
    "plt.show()"
   ]
  },
  {
   "cell_type": "markdown",
   "metadata": {},
   "source": [
    "Ce graphique montre un graphique plus interactif sur la répartition de chaque groupe d'âge dans le centre commercial pour plus de clarté sur le groupe d'âge des visiteurs dans le centre commercial.\n",
    "\n",
    "on peut voir que les âges de 27 à 40 ans sont très fréquents mais il n'y a pas de modèle clair (pour 33 , 37 et 39 ans) et  les groupes d'âge plus âgés sont moins fréquents en comparaison.\n",
    "\n",
    "plus Précisément on trouve les personnes de 55, 56, 64, 69 ans sont très moins fréquentes dans les Centres commerciaux et les personnes de 32 ans sont les visiteurs les plus fréquents du centre commercial."
   ]
  },
  {
   "cell_type": "markdown",
   "metadata": {},
   "source": [
    "### <font color='blue'>Répartition Spending Score</font>"
   ]
  },
  {
   "cell_type": "code",
   "execution_count": null,
   "metadata": {
    "scrolled": false
   },
   "outputs": [],
   "source": [
    "plt.figure(figsize=(30,12))\n",
    "sns.countplot( x = \"Spending Score (1-100)\", data = data, palette=\"Spectral\")\n",
    "plt.title(\"Répartition spending score\",fontsize=30)\n",
    "plt.xlabel(\"Spending Score (1-100)\",fontsize=15)\n",
    "plt.ylabel(\"Count\",fontsize=15)\n",
    "plt.show()"
   ]
  },
  {
   "cell_type": "markdown",
   "metadata": {},
   "source": [
    "Le graphique ci-dessus est le plus important dans la perspective du centre commercial, car il est très important d'avoir une intuition et une idée du spending score des clients visitant le centre commercial.\n",
    "\n",
    "D'un point de vue général, nous pouvons conclure que la plupart des clients ont un score de dépenses compris entre 35 et 60.\n",
    "\n",
    "il existe pas mal des client ont un spending score >90 qui implique que le centre commercial s'adresse à une variété de clients ayant des besoins et des exigences variables disponibles dans le centre commercial."
   ]
  },
  {
   "cell_type": "markdown",
   "metadata": {},
   "source": [
    "### <font color='blue'>Âge vs revenu annuel</font>"
   ]
  },
  {
   "cell_type": "code",
   "execution_count": null,
   "metadata": {},
   "outputs": [],
   "source": [
    "plt.figure(figsize=(25,10))\n",
    "plt.title('Âge vs revenu annuel',fontsize = 20)\n",
    "sns.barplot(x = data['Age'] , y = data['Annual Income (k$)'] ,palette='icefire')\n",
    "plt.title(\"Âge vs revenu annuel\",fontsize=30)\n",
    "plt.xlabel(\"Age\",fontsize=15)\n",
    "plt.ylabel(\"revenu annuel\",fontsize=15)\n",
    "plt.show()"
   ]
  },
  {
   "cell_type": "markdown",
   "metadata": {},
   "source": [
    "Le revenu annuel est maximum à 32 et 41 ans."
   ]
  },
  {
   "cell_type": "markdown",
   "metadata": {},
   "source": [
    "### <font color='blue'>Âge vs spending score</font>"
   ]
  },
  {
   "cell_type": "code",
   "execution_count": null,
   "metadata": {},
   "outputs": [],
   "source": [
    "plt.figure(figsize=(25,10))\n",
    "sns.barplot(y= \"Spending Score (1-100)\", x = \"Age\", data = data, palette=\"ch:s=-.2,r=.6\")\n",
    "plt.title(\"Âge vs spending score\",fontsize=30)\n",
    "plt.ylabel(\"Spending Score (1-100)\",fontsize=15)\n",
    "plt.xlabel(\"Age\",fontsize=15)\n",
    "plt.show()\n"
   ]
  },
  {
   "cell_type": "markdown",
   "metadata": {},
   "source": [
    "Nous pouvons voir que les 28-39 ans obtiennent le spending score maximum et la raison en est que leur revenu annuel est très élevé."
   ]
  },
  {
   "cell_type": "markdown",
   "metadata": {},
   "source": [
    "### <font color='blue'>revenu annuel moyenne par rapport Spending Score</font>"
   ]
  },
  {
   "cell_type": "code",
   "execution_count": null,
   "metadata": {},
   "outputs": [],
   "source": [
    "plt.figure(figsize=(25,10))\n",
    "plt.title('Spending Score vs revenu annuel moyanne',fontsize = 20)\n",
    "sns.barplot(x = data['Spending Score (1-100)'] , y = data['Annual Income (k$)'] ,palette='cubehelix')\n",
    "plt.title(\"Spending Score vs revenu annuel moyenne\",fontsize=30)\n",
    "plt.xlabel(\"Spending Score (1-100)\",fontsize=15)\n",
    "plt.ylabel(\"revenu annuel moyenne\",fontsize=15)\n",
    "plt.show()"
   ]
  },
  {
   "cell_type": "markdown",
   "metadata": {},
   "source": [
    "on remarque qu'il existe une catégorie des clients ont un Spending Score inferieur même si le le revenu annuel moyenne est plus élevé (par exemple : le Spending Score = 18 mais  le revenu annuel moyenne est  maximale)  "
   ]
  },
  {
   "cell_type": "markdown",
   "metadata": {},
   "source": [
    "### <font color='blue'>Revenu annuel en fonction de l\\'âge et du Spending Score</font>"
   ]
  },
  {
   "cell_type": "code",
   "execution_count": null,
   "metadata": {},
   "outputs": [],
   "source": [
    "plt.figure(figsize=(25,10))\n",
    "sns.lineplot('Annual Income (k$)','Spending Score (1-100)' ,\n",
    "             color = 'blue', palette = 'Accent_r',data=data,label='Revenu annuel en fonction de Spending Score')\n",
    "\n",
    "sns.lineplot('Annual Income (k$)','Age' , color = 'red',\n",
    "             palette = 'Accent_r',data=data,label='Revenu annuel en fonction de l\\'âge')\n",
    "\n",
    "plt.title('Revenu annuel en fonction de l\\'âge et du Spending Score', fontsize = 30)\n",
    "plt.xlabel(\"Annual Income (k$)\",fontsize=20)\n",
    "plt.ylabel(\"Spending Score \\n or\\n Age\",fontsize=20)\n",
    "plt.legend(fontsize=20)\n",
    "plt.show()\n"
   ]
  },
  {
   "cell_type": "markdown",
   "metadata": {},
   "source": [
    "Le graphique ci-dessus montre comment l'âge et le Spending Score varient avec le revenu annuel."
   ]
  },
  {
   "cell_type": "markdown",
   "metadata": {},
   "source": [
    "### <font color='blue'></font>"
   ]
  },
  {
   "cell_type": "markdown",
   "metadata": {},
   "source": [
    "### <font color='blue'> classification</font>"
   ]
  },
  {
   "cell_type": "markdown",
   "metadata": {},
   "source": [
    "tout d’abord on centrer et réduit les données"
   ]
  },
  {
   "cell_type": "code",
   "execution_count": null,
   "metadata": {},
   "outputs": [],
   "source": [
    "data['Genre'].replace({'Male':1 , 'Female':0} , inplace = True)"
   ]
  },
  {
   "cell_type": "code",
   "execution_count": null,
   "metadata": {
    "scrolled": true
   },
   "outputs": [],
   "source": [
    "from sklearn.preprocessing import StandardScaler\n",
    "sc = StandardScaler()\n",
    "data_scaled = sc.fit_transform(data)"
   ]
  },
  {
   "cell_type": "code",
   "execution_count": null,
   "metadata": {},
   "outputs": [],
   "source": [
    "from sklearn.decomposition import PCA\n",
    "pca = PCA(n_components = 2)\n",
    "data_pca = pca.fit_transform(data_scaled)\n",
    "\n",
    "print( f'PC1 :\\t{pca.explained_variance_ratio_[0]*100}%')\n",
    "print( f'PC2 :\\t{pca.explained_variance_ratio_[1]*100}%')"
   ]
  },
  {
   "cell_type": "code",
   "execution_count": null,
   "metadata": {},
   "outputs": [],
   "source": [
    "from sklearn.cluster import KMeans\n",
    "wcss = []\n",
    "for i in range(1, 11):\n",
    "    km = KMeans(n_clusters = i, init = 'k-means++', random_state = 1998)\n",
    "    km.fit(data_pca)\n",
    "    wcss.append(km.inertia_)\n",
    "plt.figure(figsize=(10,8))\n",
    "plt.plot(range(1, 11), wcss)\n",
    "plt.title('The Elbow Method', fontsize = 20)\n",
    "plt.xlabel('No. of Clusters')\n",
    "plt.ylabel('wcss')\n",
    "plt.show()"
   ]
  },
  {
   "cell_type": "code",
   "execution_count": null,
   "metadata": {},
   "outputs": [],
   "source": [
    "result_data = pd.DataFrame(index=data.index)\n",
    "result_data['PC1'] = data_pca[:,0]\n",
    "result_data['PC2'] = data_pca[:,1]\n",
    "result_data.head()"
   ]
  },
  {
   "cell_type": "code",
   "execution_count": null,
   "metadata": {},
   "outputs": [],
   "source": [
    "km = KMeans(n_clusters = 4, init = 'k-means++', random_state = 1998)\n",
    "y_means = km.fit_predict(result_data)"
   ]
  },
  {
   "cell_type": "markdown",
   "metadata": {},
   "source": [
    "À partir de la formation ci-dessus, nous obtenons un total de 4 clusters sur l'ensemble de données."
   ]
  },
  {
   "cell_type": "code",
   "execution_count": null,
   "metadata": {
    "scrolled": true
   },
   "outputs": [],
   "source": [
    "plt.figure(figsize=(10,8))\n",
    "\n",
    "color={0:'#FFFE31',1:'#FF2318',2:'#00FF09',3:'#0DF0FF'}\n",
    "\n",
    "for i in range(4):\n",
    "    plt.scatter(result_data[y_means == i].iloc[:,0], result_data[y_means == i].iloc[:,1],\n",
    "                s = 100, c =color[i] , label = f\"claster{i+1}\")\n",
    "    \n",
    "plt.scatter(km.cluster_centers_[:,0], km.cluster_centers_[:, 1], s = 200,\n",
    "            c = 'black' , label = 'centre de gravité') \n",
    "\n",
    "plt.title(\"K-Means Clustering\" , fontsize = 20)\n",
    "plt.xlabel(\"PC1\" , fontsize = 20)\n",
    "plt.ylabel(\"PC2\" , fontsize = 20)\n",
    "plt.legend(title='legend', loc='upper right',fontsize =12)\n",
    "\n",
    "plt.show()"
   ]
  }
 ],
 "metadata": {
  "kernelspec": {
   "display_name": "Python (myenv)",
   "language": "python",
   "name": "myenv"
  },
  "language_info": {
   "codemirror_mode": {
    "name": "ipython",
    "version": 3
   },
   "file_extension": ".py",
   "mimetype": "text/x-python",
   "name": "python",
   "nbconvert_exporter": "python",
   "pygments_lexer": "ipython3",
   "version": "3.8.5"
  }
 },
 "nbformat": 4,
 "nbformat_minor": 4
}
